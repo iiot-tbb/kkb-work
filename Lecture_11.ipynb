{
 "cells": [
  {
   "cell_type": "code",
   "execution_count": 1,
   "metadata": {},
   "outputs": [],
   "source": [
    "original_prica = [1, 5, 8, 9, 10, 17, 17, 20, 24, 30, 35]"
   ]
  },
  {
   "cell_type": "code",
   "execution_count": 2,
   "metadata": {},
   "outputs": [],
   "source": [
    "from collections import defaultdict"
   ]
  },
  {
   "cell_type": "code",
   "execution_count": 3,
   "metadata": {},
   "outputs": [],
   "source": [
    "price = defaultdict(int)"
   ]
  },
  {
   "cell_type": "code",
   "execution_count": 4,
   "metadata": {},
   "outputs": [],
   "source": [
    "for i,p in enumerate(original_prica):\n",
    "    price[i+1] = p"
   ]
  },
  {
   "cell_type": "code",
   "execution_count": 5,
   "metadata": {},
   "outputs": [
    {
     "data": {
      "text/plain": [
       "35"
      ]
     },
     "execution_count": 5,
     "metadata": {},
     "output_type": "execute_result"
    }
   ],
   "source": [
    "price[11]"
   ]
  },
  {
   "cell_type": "markdown",
   "metadata": {},
   "source": [
    "## Get the max splitting by enumerate"
   ]
  },
  {
   "cell_type": "code",
   "execution_count": 6,
   "metadata": {},
   "outputs": [
    {
     "data": {
      "text/plain": [
       "defaultdict(int,\n",
       "            {1: 1,\n",
       "             2: 5,\n",
       "             3: 8,\n",
       "             4: 9,\n",
       "             5: 10,\n",
       "             6: 17,\n",
       "             7: 17,\n",
       "             8: 20,\n",
       "             9: 24,\n",
       "             10: 30,\n",
       "             11: 35})"
      ]
     },
     "execution_count": 6,
     "metadata": {},
     "output_type": "execute_result"
    }
   ],
   "source": [
    "price"
   ]
  },
  {
   "cell_type": "code",
   "execution_count": 7,
   "metadata": {},
   "outputs": [],
   "source": [
    "def r(n):\n",
    "    \n",
    "    return max(\n",
    "        [price[n]] + [r(i) + r(n-i) for i in range(1,n)]\n",
    "    )"
   ]
  },
  {
   "cell_type": "code",
   "execution_count": 8,
   "metadata": {},
   "outputs": [
    {
     "data": {
      "text/plain": [
       "30"
      ]
     },
     "execution_count": 8,
     "metadata": {},
     "output_type": "execute_result"
    }
   ],
   "source": [
    "r(10)"
   ]
  },
  {
   "cell_type": "code",
   "execution_count": 9,
   "metadata": {},
   "outputs": [
    {
     "data": {
      "text/plain": [
       "45"
      ]
     },
     "execution_count": 9,
     "metadata": {},
     "output_type": "execute_result"
    }
   ],
   "source": [
    "r(15)"
   ]
  },
  {
   "cell_type": "code",
   "execution_count": 13,
   "metadata": {},
   "outputs": [],
   "source": [
    "import time"
   ]
  },
  {
   "cell_type": "code",
   "execution_count": 14,
   "metadata": {},
   "outputs": [],
   "source": [
    "#@get_time\n",
    "def fibonacci(n):\n",
    "    if n  <= 2:\n",
    "        return 1\n",
    "    else:\n",
    "        return fibonacci(n-1) + fibonacci(n-2)"
   ]
  },
  {
   "cell_type": "code",
   "execution_count": 15,
   "metadata": {},
   "outputs": [
    {
     "name": "stdout",
     "output_type": "stream",
     "text": [
      "5702887\n",
      "1.9268090724945068\n"
     ]
    }
   ],
   "source": [
    "start = time.time()\n",
    "print(fibonacci(34))\n",
    "end = time.time()\n",
    "print(end-start)"
   ]
  },
  {
   "cell_type": "code",
   "execution_count": 16,
   "metadata": {},
   "outputs": [],
   "source": [
    "mem = defaultdict()\n",
    "def fibonacci_op(n):\n",
    "    if n in mem:\n",
    "        return mem[n]\n",
    "    else: \n",
    "        if n <= 2:\n",
    "            mem[n] = 1\n",
    "            return n\n",
    "        else:\n",
    "            result = fibonacci_op(n-1) + fibonacci_op(n-2)\n",
    "            mem[n] = result\n",
    "            return result"
   ]
  },
  {
   "cell_type": "code",
   "execution_count": 17,
   "metadata": {},
   "outputs": [
    {
     "name": "stdout",
     "output_type": "stream",
     "text": [
      "14662949395604\n",
      "0.0\n"
     ]
    }
   ],
   "source": [
    "start = time.time()\n",
    "print(fibonacci_op(64))\n",
    "end = time.time()\n",
    "print(end-start)"
   ]
  },
  {
   "cell_type": "markdown",
   "metadata": {},
   "source": [
    "# Analysis: How to optimize"
   ]
  },
  {
   "cell_type": "markdown",
   "metadata": {},
   "source": [
    "## A Simpler Problem"
   ]
  },
  {
   "cell_type": "markdown",
   "metadata": {},
   "source": [
    "### Decorator"
   ]
  },
  {
   "cell_type": "code",
   "execution_count": 18,
   "metadata": {},
   "outputs": [],
   "source": [
    "def get_time(func):\n",
    "    def wrapper(*args):\n",
    "        start = time.time()\n",
    "        func(*args)\n",
    "        end = time.time()\n",
    "        print('used time : {}'.format(end-start))\n",
    "    return wrapper"
   ]
  },
  {
   "cell_type": "code",
   "execution_count": 19,
   "metadata": {},
   "outputs": [],
   "source": [
    "def f1(func):\n",
    "    def wrapper(*args,**kwargs):\n",
    "        print('Started')\n",
    "        func(*args,**kwargs)\n",
    "        print('Ended')\n",
    "    return wrapper"
   ]
  },
  {
   "cell_type": "code",
   "execution_count": 20,
   "metadata": {},
   "outputs": [],
   "source": [
    "def f():\n",
    "    print('HELLO')"
   ]
  },
  {
   "cell_type": "code",
   "execution_count": 21,
   "metadata": {},
   "outputs": [],
   "source": [
    "f = f1(f)"
   ]
  },
  {
   "cell_type": "code",
   "execution_count": 22,
   "metadata": {},
   "outputs": [
    {
     "name": "stdout",
     "output_type": "stream",
     "text": [
      "wrapper\n"
     ]
    }
   ],
   "source": [
    "print(f.__name__)"
   ]
  },
  {
   "cell_type": "code",
   "execution_count": 23,
   "metadata": {},
   "outputs": [],
   "source": [
    "@f1\n",
    "def g(a):\n",
    "    print(a)"
   ]
  },
  {
   "cell_type": "code",
   "execution_count": 90,
   "metadata": {},
   "outputs": [
    {
     "name": "stdout",
     "output_type": "stream",
     "text": [
      "Started\n",
      "hello\n",
      "Ended\n"
     ]
    }
   ],
   "source": [
    "g('hello')"
   ]
  },
  {
   "cell_type": "code",
   "execution_count": 27,
   "metadata": {},
   "outputs": [],
   "source": [
    "def k(*arg,**kwargs):\n",
    "    print(arg,kwargs)"
   ]
  },
  {
   "cell_type": "code",
   "execution_count": 28,
   "metadata": {},
   "outputs": [
    {
     "name": "stdout",
     "output_type": "stream",
     "text": [
      "(6,) {'b': 5}\n"
     ]
    }
   ],
   "source": [
    "k(6,b=5)"
   ]
  },
  {
   "cell_type": "code",
   "execution_count": 29,
   "metadata": {},
   "outputs": [],
   "source": [
    "from functools import wraps"
   ]
  },
  {
   "cell_type": "code",
   "execution_count": 31,
   "metadata": {},
   "outputs": [],
   "source": [
    "def memo(f):\n",
    "    memo.already_computed = {}\n",
    "    @wraps(f)\n",
    "    def _wrap(arg):\n",
    "        if arg in memo.already_computed:\n",
    "            result = memo.already_computed[arg]\n",
    "        else:\n",
    "            result = f(arg)\n",
    "            memo.already_computed[arg] = result\n",
    "        return result\n",
    "    return _wrap"
   ]
  },
  {
   "cell_type": "markdown",
   "metadata": {},
   "source": [
    "# We use this method to solve Cut Rod probelm¶"
   ]
  },
  {
   "cell_type": "code",
   "execution_count": 32,
   "metadata": {},
   "outputs": [],
   "source": [
    "solution = {}"
   ]
  },
  {
   "cell_type": "code",
   "execution_count": 33,
   "metadata": {},
   "outputs": [],
   "source": [
    "@memo\n",
    "def r(n):\n",
    "    \"\"\"\n",
    "    Args: n is the iron length\n",
    "    Return: the max revenue \n",
    "    \"\"\"\n",
    "    max_price, max_split = max(\n",
    "        [(price[n], 0)] + [(r(i) + r(n-i), i) for i in range(1, n)], key=lambda x: x[0]\n",
    "    )\n",
    "\n",
    "    solution[n] = (n - max_split, max_split)\n",
    "    \n",
    "    return max_price"
   ]
  },
  {
   "cell_type": "code",
   "execution_count": 34,
   "metadata": {},
   "outputs": [
    {
     "data": {
      "text/plain": [
       "60"
      ]
     },
     "execution_count": 34,
     "metadata": {},
     "output_type": "execute_result"
    }
   ],
   "source": [
    "r(20)"
   ]
  },
  {
   "cell_type": "code",
   "execution_count": 35,
   "metadata": {},
   "outputs": [
    {
     "data": {
      "text/plain": [
       "defaultdict(int,\n",
       "            {1: 1,\n",
       "             2: 5,\n",
       "             3: 8,\n",
       "             4: 9,\n",
       "             5: 10,\n",
       "             6: 17,\n",
       "             7: 17,\n",
       "             8: 20,\n",
       "             9: 24,\n",
       "             10: 30,\n",
       "             11: 35,\n",
       "             15: 0,\n",
       "             14: 0,\n",
       "             13: 0,\n",
       "             12: 0,\n",
       "             20: 0,\n",
       "             19: 0,\n",
       "             18: 0,\n",
       "             17: 0,\n",
       "             16: 0})"
      ]
     },
     "execution_count": 35,
     "metadata": {},
     "output_type": "execute_result"
    }
   ],
   "source": [
    "price"
   ]
  },
  {
   "cell_type": "code",
   "execution_count": 36,
   "metadata": {},
   "outputs": [
    {
     "data": {
      "text/plain": [
       "{1: (1, 0),\n",
       " 2: (2, 0),\n",
       " 3: (3, 0),\n",
       " 4: (2, 2),\n",
       " 5: (3, 2),\n",
       " 6: (6, 0),\n",
       " 7: (6, 1),\n",
       " 8: (6, 2),\n",
       " 9: (6, 3),\n",
       " 10: (10, 0),\n",
       " 11: (11, 0),\n",
       " 12: (11, 1),\n",
       " 13: (11, 2),\n",
       " 14: (11, 3),\n",
       " 15: (13, 2),\n",
       " 16: (14, 2),\n",
       " 17: (11, 6),\n",
       " 18: (17, 1),\n",
       " 19: (17, 2),\n",
       " 20: (17, 3)}"
      ]
     },
     "execution_count": 36,
     "metadata": {},
     "output_type": "execute_result"
    }
   ],
   "source": [
    "solution"
   ]
  },
  {
   "cell_type": "markdown",
   "metadata": {},
   "source": [
    "# How do we parse solution?¶"
   ]
  },
  {
   "cell_type": "code",
   "execution_count": 37,
   "metadata": {},
   "outputs": [],
   "source": [
    "def parse_solution(n):\n",
    "    left_split, right_split = solution[n]\n",
    "    \n",
    "    if right_split == 0: return [left_split]\n",
    "    \n",
    "    return parse_solution(left_split) + parse_solution(right_split)"
   ]
  },
  {
   "cell_type": "code",
   "execution_count": 38,
   "metadata": {},
   "outputs": [
    {
     "data": {
      "text/plain": [
       "75"
      ]
     },
     "execution_count": 38,
     "metadata": {},
     "output_type": "execute_result"
    }
   ],
   "source": [
    "r(24)"
   ]
  },
  {
   "cell_type": "code",
   "execution_count": 39,
   "metadata": {},
   "outputs": [
    {
     "data": {
      "text/plain": [
       "[11, 6, 3]"
      ]
     },
     "execution_count": 39,
     "metadata": {},
     "output_type": "execute_result"
    }
   ],
   "source": [
    "parse_solution(20)"
   ]
  },
  {
   "cell_type": "markdown",
   "metadata": {},
   "source": [
    "# Edit Distance"
   ]
  },
  {
   "cell_type": "code",
   "execution_count": 40,
   "metadata": {},
   "outputs": [],
   "source": [
    "solution = {}"
   ]
  },
  {
   "cell_type": "code",
   "execution_count": 48,
   "metadata": {},
   "outputs": [],
   "source": [
    "x=range(10)"
   ]
  },
  {
   "cell_type": "code",
   "execution_count": 59,
   "metadata": {},
   "outputs": [
    {
     "data": {
      "image/png": "[encoded data removed]",
      "text/plain": [
       "<Figure size 432x288 with 1 Axes>"
      ]
     },
     "metadata": {
      "needs_background": "light"
     },
     "output_type": "display_data"
    }
   ],
   "source": [
    "import matplotlib.pyplot as plt\n",
    "import numpy as np \n",
    "\n",
    "for i in range(1, 5) :\n",
    "    x = range(0, i)\n",
    "    y = range(0, i) \n",
    "    y = np.array(y) * i\n",
    "    #plt.cla()\n",
    "    plt.scatter(x, y, c = 'r', s = 20)\n",
    "\n"
   ]
  },
  {
   "cell_type": "code",
   "execution_count": 57,
   "metadata": {},
   "outputs": [],
   "source": [
    "y = range(1, 5) \n",
    "y = np.array(y) * 5"
   ]
  },
  {
   "cell_type": "code",
   "execution_count": 58,
   "metadata": {},
   "outputs": [
    {
     "data": {
      "text/plain": [
       "array([ 5, 10, 15, 20])"
      ]
     },
     "execution_count": 58,
     "metadata": {},
     "output_type": "execute_result"
    }
   ],
   "source": [
    "y"
   ]
  },
  {
   "cell_type": "code",
   "execution_count": 41,
   "metadata": {},
   "outputs": [],
   "source": [
    "from functools import lru_cache"
   ]
  },
  {
   "cell_type": "code",
   "execution_count": 144,
   "metadata": {},
   "outputs": [],
   "source": [
    "@lru_cache(maxsize=2**10)\n",
    "def edit_distance(string1, string2):\n",
    "    \n",
    "    if len(string1) == 0: return len(string2)\n",
    "    if len(string2) == 0: return len(string1)\n",
    "    \n",
    "    tail_s1 = string1[-1]\n",
    "    tail_s2 = string2[-1]\n",
    "    \n",
    "    candidates = [\n",
    "        (edit_distance(string1[:-1], string2) + 1, 'DEL {}'.format(tail_s1)),  \n",
    "        # string 1 delete tail\n",
    "        (edit_distance(string1, string2[:-1]) + 1, 'ADD {}'.format(tail_s2)),  \n",
    "        # string 1 add tail of string2\n",
    "    ]\n",
    "    \n",
    "    if tail_s1 == tail_s2:\n",
    "        both_forward = (edit_distance(string1[:-1], string2[:-1]) + 0, '')\n",
    "    else:\n",
    "        both_forward = (edit_distance(string1[:-1], string2[:-1]) + 1, 'SUB {} => {}'.format(tail_s1, tail_s2))\n",
    "\n",
    "    candidates.append(both_forward)\n",
    "    \n",
    "    min_distance, operation = min(candidates, key=lambda x: x[0])\n",
    "    \n",
    "    solution[(string1, string2)] = operation \n",
    "    \n",
    "    return min_distance"
   ]
  },
  {
   "cell_type": "code",
   "execution_count": 145,
   "metadata": {},
   "outputs": [
    {
     "data": {
      "text/plain": [
       "3"
      ]
     },
     "execution_count": 145,
     "metadata": {},
     "output_type": "execute_result"
    }
   ],
   "source": [
    "edit_distance('ABCDECG','ABCCEF')"
   ]
  },
  {
   "cell_type": "code",
   "execution_count": 60,
   "metadata": {},
   "outputs": [
    {
     "data": {
      "text/plain": [
       "{('A', 'A'): '',\n",
       " ('A', 'AB'): 'ADD B',\n",
       " ('A', 'ABC'): 'ADD C',\n",
       " ('A', 'ABCC'): 'ADD C',\n",
       " ('A', 'ABCCE'): 'ADD E',\n",
       " ('A', 'ABCCEF'): 'ADD F',\n",
       " ('AB', 'A'): 'DEL B',\n",
       " ('AB', 'AB'): '',\n",
       " ('AB', 'ABC'): 'ADD C',\n",
       " ('AB', 'ABCC'): 'ADD C',\n",
       " ('AB', 'ABCCE'): 'ADD E',\n",
       " ('AB', 'ABCCEF'): 'ADD F',\n",
       " ('ABC', 'A'): 'DEL C',\n",
       " ('ABC', 'AB'): 'DEL C',\n",
       " ('ABC', 'ABC'): '',\n",
       " ('ABC', 'ABCC'): 'ADD C',\n",
       " ('ABC', 'ABCCE'): 'ADD E',\n",
       " ('ABC', 'ABCCEF'): 'ADD F',\n",
       " ('ABCD', 'A'): 'DEL D',\n",
       " ('ABCD', 'AB'): 'DEL D',\n",
       " ('ABCD', 'ABC'): 'DEL D',\n",
       " ('ABCD', 'ABCC'): 'SUB D => C',\n",
       " ('ABCD', 'ABCCE'): 'ADD E',\n",
       " ('ABCD', 'ABCCEF'): 'ADD F',\n",
       " ('ABCDE', 'A'): 'DEL E',\n",
       " ('ABCDE', 'AB'): 'DEL E',\n",
       " ('ABCDE', 'ABC'): 'DEL E',\n",
       " ('ABCDE', 'ABCC'): 'DEL E',\n",
       " ('ABCDE', 'ABCCE'): '',\n",
       " ('ABCDE', 'ABCCEF'): 'ADD F',\n",
       " ('ABCDEC', 'A'): 'DEL C',\n",
       " ('ABCDEC', 'AB'): 'DEL C',\n",
       " ('ABCDEC', 'ABC'): 'DEL C',\n",
       " ('ABCDEC', 'ABCC'): '',\n",
       " ('ABCDEC', 'ABCCE'): 'DEL C',\n",
       " ('ABCDEC', 'ABCCEF'): 'SUB C => F',\n",
       " ('ABCDECG', 'A'): 'DEL G',\n",
       " ('ABCDECG', 'AB'): 'DEL G',\n",
       " ('ABCDECG', 'ABC'): 'DEL G',\n",
       " ('ABCDECG', 'ABCC'): 'DEL G',\n",
       " ('ABCDECG', 'ABCCE'): 'DEL G',\n",
       " ('ABCDECG', 'ABCCEF'): 'DEL G',\n",
       " ('A', 'f'): 'SUB A => f',\n",
       " ('A', 'fd'): 'ADD d',\n",
       " ('A', 'fds'): 'ADD s',\n",
       " ('A', 'fdsf'): 'ADD f',\n",
       " ('A', 'fdsfd'): 'ADD d',\n",
       " ('A', 'fdsfdd'): 'ADD d',\n",
       " ('A', 'fdsfddf'): 'ADD f',\n",
       " ('AB', 'f'): 'DEL B',\n",
       " ('AB', 'fd'): 'SUB B => d',\n",
       " ('AB', 'fds'): 'ADD s',\n",
       " ('AB', 'fdsf'): 'ADD f',\n",
       " ('AB', 'fdsfd'): 'ADD d',\n",
       " ('AB', 'fdsfdd'): 'ADD d',\n",
       " ('AB', 'fdsfddf'): 'ADD f',\n",
       " ('ABC', 'f'): 'DEL C',\n",
       " ('ABC', 'fd'): 'DEL C',\n",
       " ('ABC', 'fds'): 'SUB C => s',\n",
       " ('ABC', 'fdsf'): 'ADD f',\n",
       " ('ABC', 'fdsfd'): 'ADD d',\n",
       " ('ABC', 'fdsfdd'): 'ADD d',\n",
       " ('ABC', 'fdsfddf'): 'ADD f',\n",
       " ('ABCD', 'f'): 'DEL D',\n",
       " ('ABCD', 'fd'): 'DEL D',\n",
       " ('ABCD', 'fds'): 'DEL D',\n",
       " ('ABCD', 'fdsf'): 'SUB D => f',\n",
       " ('ABCD', 'fdsfd'): 'ADD d',\n",
       " ('ABCD', 'fdsfdd'): 'ADD d',\n",
       " ('ABCD', 'fdsfddf'): 'ADD f',\n",
       " ('ABCDE', 'f'): 'DEL E',\n",
       " ('ABCDE', 'fd'): 'DEL E',\n",
       " ('ABCDE', 'fds'): 'DEL E',\n",
       " ('ABCDE', 'fdsf'): 'DEL E',\n",
       " ('ABCDE', 'fdsfd'): 'SUB E => d',\n",
       " ('ABCDE', 'fdsfdd'): 'ADD d',\n",
       " ('ABCDE', 'fdsfddf'): 'ADD f',\n",
       " ('ABCDEC', 'f'): 'DEL C',\n",
       " ('ABCDEC', 'fd'): 'DEL C',\n",
       " ('ABCDEC', 'fds'): 'DEL C',\n",
       " ('ABCDEC', 'fdsf'): 'DEL C',\n",
       " ('ABCDEC', 'fdsfd'): 'DEL C',\n",
       " ('ABCDEC', 'fdsfdd'): 'SUB C => d',\n",
       " ('ABCDEC', 'fdsfddf'): 'ADD f',\n",
       " ('ABCDECG', 'f'): 'DEL G',\n",
       " ('ABCDECG', 'fd'): 'DEL G',\n",
       " ('ABCDECG', 'fds'): 'DEL G',\n",
       " ('ABCDECG', 'fdsf'): 'DEL G',\n",
       " ('ABCDECG', 'fdsfd'): 'DEL G',\n",
       " ('ABCDECG', 'fdsfdd'): 'DEL G',\n",
       " ('ABCDECG', 'fdsfddf'): 'SUB G => f',\n",
       " ('ABCDECGx', 'f'): 'DEL x',\n",
       " ('ABCDECGx', 'fd'): 'DEL x',\n",
       " ('ABCDECGx', 'fds'): 'DEL x',\n",
       " ('ABCDECGx', 'fdsf'): 'DEL x',\n",
       " ('ABCDECGx', 'fdsfd'): 'DEL x',\n",
       " ('ABCDECGx', 'fdsfdd'): 'DEL x',\n",
       " ('ABCDECGx', 'fdsfddf'): 'DEL x',\n",
       " ('ABCDECGxs', 'f'): 'DEL s',\n",
       " ('ABCDECGxs', 'fd'): 'DEL s',\n",
       " ('ABCDECGxs', 'fds'): '',\n",
       " ('ABCDECGxs', 'fdsf'): 'DEL s',\n",
       " ('ABCDECGxs', 'fdsfd'): 'DEL s',\n",
       " ('ABCDECGxs', 'fdsfdd'): 'DEL s',\n",
       " ('ABCDECGxs', 'fdsfddf'): 'DEL s',\n",
       " ('ABCDECGxsc', 'f'): 'DEL c',\n",
       " ('ABCDECGxsc', 'fd'): 'DEL c',\n",
       " ('ABCDECGxsc', 'fds'): 'DEL c',\n",
       " ('ABCDECGxsc', 'fdsf'): 'SUB c => f',\n",
       " ('ABCDECGxsc', 'fdsfd'): 'DEL c',\n",
       " ('ABCDECGxsc', 'fdsfdd'): 'DEL c',\n",
       " ('ABCDECGxsc', 'fdsfddf'): 'DEL c',\n",
       " ('ABCDECGxscs', 'f'): 'DEL s',\n",
       " ('ABCDECGxscs', 'fd'): 'DEL s',\n",
       " ('ABCDECGxscs', 'fds'): 'DEL s',\n",
       " ('ABCDECGxscs', 'fdsf'): 'DEL s',\n",
       " ('ABCDECGxscs', 'fdsfd'): 'SUB s => d',\n",
       " ('ABCDECGxscs', 'fdsfdd'): 'DEL s',\n",
       " ('ABCDECGxscs', 'fdsfddf'): 'DEL s',\n",
       " ('ABCDECGxscsf', 'f'): '',\n",
       " ('ABCDECGxscsf', 'fd'): 'DEL f',\n",
       " ('ABCDECGxscsf', 'fds'): 'DEL f',\n",
       " ('ABCDECGxscsf', 'fdsf'): '',\n",
       " ('ABCDECGxscsf', 'fdsfd'): 'DEL f',\n",
       " ('ABCDECGxscsf', 'fdsfdd'): 'SUB f => d',\n",
       " ('ABCDECGxscsf', 'fdsfddf'): '',\n",
       " ('ABCDECGxscsfd', 'f'): 'DEL d',\n",
       " ('ABCDECGxscsfd', 'fd'): '',\n",
       " ('ABCDECGxscsfd', 'fds'): 'DEL d',\n",
       " ('ABCDECGxscsfd', 'fdsf'): 'DEL d',\n",
       " ('ABCDECGxscsfd', 'fdsfd'): '',\n",
       " ('ABCDECGxscsfd', 'fdsfdd'): 'ADD d',\n",
       " ('ABCDECGxscsfd', 'fdsfddf'): 'DEL d',\n",
       " ('ABCDECGxscsfds', 'f'): 'DEL s',\n",
       " ('ABCDECGxscsfds', 'fd'): 'DEL s',\n",
       " ('ABCDECGxscsfds', 'fds'): '',\n",
       " ('ABCDECGxscsfds', 'fdsf'): 'DEL s',\n",
       " ('ABCDECGxscsfds', 'fdsfd'): 'DEL s',\n",
       " ('ABCDECGxscsfds', 'fdsfdd'): 'SUB s => d',\n",
       " ('ABCDECGxscsfds', 'fdsfddf'): 'ADD f'}"
      ]
     },
     "execution_count": 60,
     "metadata": {},
     "output_type": "execute_result"
    }
   ],
   "source": [
    "solution"
   ]
  },
  {
   "cell_type": "markdown",
   "metadata": {},
   "source": [
    "## Todo: Parse Solution is our homework"
   ]
  },
  {
   "cell_type": "code",
   "execution_count": 182,
   "metadata": {},
   "outputs": [],
   "source": [
    "def f():\n",
    "    string2=''\n",
    "    return (len(string2), '-->ADD '+string2) if len(string2)!=0  else (0,'')"
   ]
  },
  {
   "cell_type": "code",
   "execution_count": 183,
   "metadata": {},
   "outputs": [
    {
     "data": {
      "text/plain": [
       "(0, '')"
      ]
     },
     "execution_count": 183,
     "metadata": {},
     "output_type": "execute_result"
    }
   ],
   "source": [
    "f()"
   ]
  },
  {
   "cell_type": "code",
   "execution_count": 185,
   "metadata": {},
   "outputs": [],
   "source": [
    "@lru_cache(maxsize=2**10)\n",
    "def find_path(string1, string2,method=\"\"):\n",
    "    \n",
    "    if len(string1) == 0: return (len(string2), method+'-->ADD '+string2) if len(string2)!=0  else (0,method)\n",
    "    if len(string2) == 0: return (len(string1), method+'-->DEL '+string1) if len(string1)!=0  else (0,method)\n",
    "    \n",
    "    tail_s1 = string1[-1]\n",
    "    tail_s2 = string2[-1]\n",
    "    \n",
    "    candidates = [\n",
    "        (find_path(string1[:-1], string2, method+' '+'DEL {}'.format(tail_s1))[0] + 1, find_path(string1[:-1], string2, method+' '+'DEL {}'.format(tail_s1))[1]),  \n",
    "        # string 1 delete tail\n",
    "        (find_path(string1, string2[:-1],method+' '+'ADD {}'.format(tail_s2))[0] + 1, find_path(string1, string2[:-1],method+' '+'ADD {}'.format(tail_s2))[1]),  \n",
    "        # string 1 add tail of string2\n",
    "    ]\n",
    "    \n",
    "    if tail_s1 == tail_s2:\n",
    "        both_forward = (find_path(string1[:-1], string2[:-1],method+'')[0] + 0, find_path(string1[:-1], string2[:-1],method+'')[1])\n",
    "    else:\n",
    "        both_forward = (find_path(string1[:-1], string2[:-1],method+' '+ 'SUB {} => {}'.format(tail_s1, tail_s2))[0] + 1,find_path(string1[:-1], string2[:-1],method+' '+ 'SUB {} => {}'.format(tail_s1, tail_s2))[1])\n",
    "\n",
    "    candidates.append(both_forward)\n",
    "    \n",
    "    min_distance, operation = min(candidates, key=lambda x: x[0])\n",
    "    \n",
    "    solution[(string1, string2)] = operation \n",
    "    \n",
    "    return min_distance,operation"
   ]
  },
  {
   "cell_type": "code",
   "execution_count": 186,
   "metadata": {},
   "outputs": [
    {
     "data": {
      "text/plain": [
       "(3, ' DEL G SUB C => F SUB D => C')"
      ]
     },
     "execution_count": 186,
     "metadata": {},
     "output_type": "execute_result"
    }
   ],
   "source": [
    "find_path('ABCDECG','ABCCEF')\n",
    "    "
   ]
  },
  {
   "cell_type": "markdown",
   "metadata": {},
   "source": [
    "# Problem Case 3: Pinyin Auto Correction Problem"
   ]
  },
  {
   "cell_type": "code",
   "execution_count": 61,
   "metadata": {},
   "outputs": [],
   "source": [
    "chinese_dataset = 'article_9k.txt'"
   ]
  },
  {
   "cell_type": "code",
   "execution_count": 63,
   "metadata": {},
   "outputs": [],
   "source": [
    "CHINESE_CHARATERS = open(chinese_dataset,encoding='utf-8').read()"
   ]
  },
  {
   "cell_type": "code",
   "execution_count": 65,
   "metadata": {},
   "outputs": [
    {
     "data": {
      "text/plain": [
       "'此外自本周6月12日起除小米手机6等15款机型外其余机型已暂停更新发布含开发版体'"
      ]
     },
     "execution_count": 65,
     "metadata": {},
     "output_type": "execute_result"
    }
   ],
   "source": [
    "CHINESE_CHARATERS[:40]"
   ]
  },
  {
   "cell_type": "code",
   "execution_count": 67,
   "metadata": {},
   "outputs": [
    {
     "name": "stdout",
     "output_type": "stream",
     "text": [
      "Looking in indexes: http://mirrors.aliyun.com/pypi/simple/\n",
      "Collecting pinyin\n",
      "  Downloading http://mirrors.aliyun.com/pypi/packages/32/95/d2969f1071b7bc0afff407d1d7b4b3f445e8e6b59df7921c9c09e35ee375/pinyin-0.4.0.tar.gz (3.6 MB)\n",
      "Building wheels for collected packages: pinyin\n",
      "  Building wheel for pinyin (setup.py): started\n",
      "  Building wheel for pinyin (setup.py): finished with status 'done'\n",
      "  Created wheel for pinyin: filename=pinyin-0.4.0-py3-none-any.whl size=3630488 sha256=7c2289f30183bf128da5b33c15bf713ce0f470aab813caee8f1dd729505cd568\n",
      "  Stored in directory: c:\\users\\tb\\appdata\\local\\pip\\cache\\wheels\\0a\\57\\a2\\340d2b5ecd26128889b531929ae1089f8424f1f6fa754e2bd3\n",
      "Successfully built pinyin\n",
      "Installing collected packages: pinyin\n",
      "Successfully installed pinyin-0.4.0\n"
     ]
    }
   ],
   "source": [
    "!pip install pinyin"
   ]
  },
  {
   "cell_type": "code",
   "execution_count": 68,
   "metadata": {},
   "outputs": [],
   "source": [
    "import pinyin"
   ]
  },
  {
   "cell_type": "code",
   "execution_count": 70,
   "metadata": {},
   "outputs": [
    {
     "data": {
      "text/plain": [
       "'ni hao ， tong bo'"
      ]
     },
     "execution_count": 70,
     "metadata": {},
     "output_type": "execute_result"
    }
   ],
   "source": [
    "pinyin.get('你好，佟博',format='strip',delimiter=' ')"
   ]
  },
  {
   "cell_type": "code",
   "execution_count": 71,
   "metadata": {},
   "outputs": [],
   "source": [
    "def chinese_to_pinyin(character):\n",
    "    return pinyin.get(character, format='strip', delimiter=' ')"
   ]
  },
  {
   "cell_type": "code",
   "execution_count": 72,
   "metadata": {},
   "outputs": [],
   "source": [
    "CHINESE_CHARATERS_COPYS = chinese_to_pinyin(CHINESE_CHARATERS)"
   ]
  },
  {
   "cell_type": "code",
   "execution_count": 74,
   "metadata": {},
   "outputs": [
    {
     "data": {
      "text/plain": [
       "'ci wai zi ben zhou 6 yue 1 2 ri qi chu x'"
      ]
     },
     "execution_count": 74,
     "metadata": {},
     "output_type": "execute_result"
    }
   ],
   "source": [
    "CHINESE_CHARATERS_COPYS[:40]"
   ]
  },
  {
   "cell_type": "code",
   "execution_count": 75,
   "metadata": {},
   "outputs": [
    {
     "data": {
      "text/plain": [
       "129433034"
      ]
     },
     "execution_count": 75,
     "metadata": {},
     "output_type": "execute_result"
    }
   ],
   "source": [
    "len(CHINESE_CHARATERS_COPYS)"
   ]
  },
  {
   "cell_type": "code",
   "execution_count": 76,
   "metadata": {},
   "outputs": [],
   "source": [
    "import re"
   ]
  },
  {
   "cell_type": "code",
   "execution_count": 77,
   "metadata": {},
   "outputs": [],
   "source": [
    "def tokens(text):\n",
    "    \"List all the pinyin characters\"\n",
    "    return re.findall('[a-z]+',text.lower())"
   ]
  },
  {
   "cell_type": "code",
   "execution_count": 78,
   "metadata": {},
   "outputs": [
    {
     "data": {
      "text/plain": [
       "'ci wai zi ben zhou 6 yue 1 2 ri qi chu xiao mi shou ji 6 deng 1 5 kuan ji xing wai qi yu ji xing yi '"
      ]
     },
     "execution_count": 78,
     "metadata": {},
     "output_type": "execute_result"
    }
   ],
   "source": [
    "CHINESE_CHARATERS_COPYS[:100]"
   ]
  },
  {
   "cell_type": "code",
   "execution_count": 189,
   "metadata": {},
   "outputs": [],
   "source": [
    "Token=tokens(CHINESE_CHARATERS_COPYS)"
   ]
  },
  {
   "cell_type": "code",
   "execution_count": 190,
   "metadata": {},
   "outputs": [
    {
     "data": {
      "text/plain": [
       "['ci', 'wai', 'zi', 'ben', 'zhou', 'yue', 'ri', 'qi', 'chu', 'xiao']"
      ]
     },
     "execution_count": 190,
     "metadata": {},
     "output_type": "execute_result"
    }
   ],
   "source": [
    "Token[:10]"
   ]
  },
  {
   "cell_type": "code",
   "execution_count": 80,
   "metadata": {},
   "outputs": [],
   "source": [
    "from collections import Counter, defaultdict"
   ]
  },
  {
   "cell_type": "code",
   "execution_count": 81,
   "metadata": {},
   "outputs": [],
   "source": [
    "PINYIN_COUNT = Counter(tokens(CHINESE_CHARATERS_COPYS))"
   ]
  },
  {
   "cell_type": "code",
   "execution_count": 95,
   "metadata": {},
   "outputs": [
    {
     "data": {
      "text/plain": [
       "58771"
      ]
     },
     "execution_count": 95,
     "metadata": {},
     "output_type": "execute_result"
    }
   ],
   "source": [
    "PINYIN_COUNT.get('tu')"
   ]
  },
  {
   "cell_type": "code",
   "execution_count": 130,
   "metadata": {},
   "outputs": [],
   "source": [
    "def correct(word):\n",
    "    'Find the most possible pinyin based on edit distance'\n",
    "    # Prefer edit distance 0, then 1, then 2; otherwist default to word itself\n",
    "    candidates = (known(edits0(word)) or\n",
    "                  known(edits1(word)) or\n",
    "                  known(edits2(word)) or\n",
    "                  [word])\n",
    "    #print(\"len(edits0) \",len(edits0(word)))\n",
    "    #print(\"len(edits1) \",len(edits1(word)))\n",
    "    #print(\"len(edits2) \",len(edits2(word)))\n",
    "    #print(candidates)\n",
    "    #print(candidates)\n",
    "    return max(candidates,key=PINYIN_COUNT.get)"
   ]
  },
  {
   "cell_type": "code",
   "execution_count": 101,
   "metadata": {},
   "outputs": [
    {
     "data": {
      "text/plain": [
       "set"
      ]
     },
     "execution_count": 101,
     "metadata": {},
     "output_type": "execute_result"
    }
   ],
   "source": [
    "type({i for i in range(10)})"
   ]
  },
  {
   "cell_type": "code",
   "execution_count": 102,
   "metadata": {},
   "outputs": [],
   "source": [
    "def known(words):\n",
    "    'Return the pinyin in our data'\n",
    "    return {w for w in words if w in PINYIN_COUNT}\n",
    "\n",
    "def edits0(word):\n",
    "    'Return all strings that are zero edits away from word (i.e., just word itself).'\n",
    "    return {word}\n",
    "\n",
    "def edits2(word):\n",
    "    'Return all strings that are two edits away from this pinyin.'\n",
    "    return {e2 for e1 in edits1(word) for e2 in edits1(e1)} #这个代码是否能保证编辑距离恰好为1？无法保证"
   ]
  },
  {
   "cell_type": "code",
   "execution_count": 103,
   "metadata": {},
   "outputs": [],
   "source": [
    "alphabet = 'abcdefghijklmnopqrstuvwxyz'\n",
    "\n",
    "def splits(word):\n",
    "    'Return a list of all possible (first, rest) pairs that comprise pinyin.'\n",
    "    return [(word[:i], word[i:])\n",
    "           for i in range(len(word)+1)]\n",
    "\n",
    "def edits1(word):\n",
    "    'Return all strings that are one edit away from this pinyin.'\n",
    "    pairs = splits(word)\n",
    "    deletes = [a+b[1:] for (a,b) in pairs if b]\n",
    "    transposes = [a+b[1]+b[0]+b[2:] for (a,b) in pairs if len(b) > 1]\n",
    "    replaces = [a+c+b[1:] for (a,b) in pairs for c in alphabet if b]\n",
    "    inserts = [a+c+b for (a,b) in pairs for c in alphabet]\n",
    "    return set(deletes + transposes + replaces + inserts)"
   ]
  },
  {
   "cell_type": "code",
   "execution_count": 112,
   "metadata": {},
   "outputs": [],
   "source": [
    "#known(edits1('tong'))"
   ]
  },
  {
   "cell_type": "code",
   "execution_count": 113,
   "metadata": {},
   "outputs": [],
   "source": [
    "#known(edits2('tong'))"
   ]
  },
  {
   "cell_type": "code",
   "execution_count": 46,
   "metadata": {},
   "outputs": [
    {
     "data": {
      "text/plain": [
       "[('', 'pinyin'),\n",
       " ('p', 'inyin'),\n",
       " ('pi', 'nyin'),\n",
       " ('pin', 'yin'),\n",
       " ('piny', 'in'),\n",
       " ('pinyi', 'n'),\n",
       " ('pinyin', '')]"
      ]
     },
     "execution_count": 46,
     "metadata": {},
     "output_type": "execute_result"
    }
   ],
   "source": [
    "splits('pinyin')"
   ]
  },
  {
   "cell_type": "code",
   "execution_count": 48,
   "metadata": {},
   "outputs": [
    {
     "name": "stdout",
     "output_type": "stream",
     "text": [
      "{'pinyin'}\n"
     ]
    }
   ],
   "source": [
    "print(edits0('pinyin'))"
   ]
  },
  {
   "cell_type": "code",
   "execution_count": 115,
   "metadata": {},
   "outputs": [
    {
     "name": "stdout",
     "output_type": "stream",
     "text": [
      "{'pinyen', 'pinyein', 'pinyian', 'pinywin', 'piyin', 'ppnyin', 'picyin', 'pidyin', 'pinayin', 'pinyibn', 'pinyinv', 'pinqin', 'pinyjn', 'pinuin', 'pinmin', 'pizyin', 'piinyin', 'puinyin', 'pinyink', 'pinyqin', 'pinyid', 'pincyin', 'ptnyin', 'pinhyin', 'ypinyin', 'pinyfn', 'pinxyin', 'piynin', 'pihnyin', 'pinryin', 'pinyxn', 'lpinyin', 'pwnyin', 'binyin', 'pineyin', 'psinyin', 'xpinyin', 'pinybin', 'pinyit', 'pinyimn', 'piniin', 'pinyic', 'pfnyin', 'iinyin', 'pjnyin', 'piniyin', 'pznyin', 'winyin', 'pinzin', 'pmnyin', 'pinykin', 'pinpyin', 'pinfyin', 'pinbyin', 'pinyip', 'pinyivn', 'pinyjin', 'pieyin', 'pinyinx', 'pinyixn', 'pijyin', 'pginyin', 'panyin', 'picnyin', 'pinyiln', 'punyin', 'tpinyin', 'pinsyin', 'pminyin', 'pbnyin', 'pinyipn', 'pinzyin', 'jinyin', 'pigyin', 'oinyin', 'pilyin', 'pincin', 'pinygin', 'piayin', 'pninyin', 'pinpin', 'pinyii', 'pinhin', 'pingin', 'pyinyin', 'pingyin', 'pinyif', 'piiyin', 'pinyion', 'cpinyin', 'pqinyin', 'pinyir', 'pinyinr', 'pinyij', 'pinyib', 'pimyin', 'piunyin', 'poinyin', 'pioyin', 'pixnyin', 'pinyvn', 'pinain', 'pknyin', 'pintyin', 'pinyrin', 'pnyin', 'pvinyin', 'qpinyin', 'piqyin', 'pinyi', 'kinyin', 'pisnyin', 'pijnyin', 'piqnyin', 'prnyin', 'pinyxin', 'pinkyin', 'pinnyin', 'piwyin', 'pinyins', 'pinvin', 'npinyin', 'cinyin', 'pinyil', 'ppinyin', 'pinfin', 'pinqyin', 'pinydn', 'einyin', 'pinycin', 'pinyiq', 'pinyiu', 'pinyinf', 'piknyin', 'pinynin', 'pinyik', 'pinyia', 'piryin', 'pipyin', 'pinyidn', 'pinyiqn', 'pibnyin', 'opinyin', 'ginyin', 'pinwyin', 'jpinyin', 'pinyine', 'pinyinu', 'pxnyin', 'pynyin', 'pinyvin', 'pinymin', 'pinyni', 'pindyin', 'yinyin', 'pinyini', 'pzinyin', 'pinyifn', 'pinypin', 'ponyin', 'hpinyin', 'pinyinl', 'pinyin', 'pinvyin', 'pinbin', 'pinoin', 'pinytin', 'pihyin', 'dpinyin', 'ipinyin', 'pinyix', 'pdinyin', 'rpinyin', 'pinyig', 'pinyhin', 'ainyin', 'pinyitn', 'pinyun', 'minyin', 'mpinyin', 'pinyino', 'peinyin', 'pinyikn', 'pivyin', 'pinypn', 'pinycn', 'pirnyin', 'pignyin', 'pimnyin', 'inyin', 'pinyien', 'pinoyin', 'pinyzin', 'pqnyin', 'pifyin', 'zpinyin', 'pinyihn', 'vpinyin', 'pisyin', 'piniyn', 'pinein', 'pienyin', 'pityin', 'pinyyn', 'pinxin', 'pinyinm', 'pinsin', 'piyyin', 'pinyis', 'pinyina', 'pinyiny', 'piwnyin', 'pdnyin', 'ptinyin', 'pinyinc', 'phinyin', 'fpinyin', 'pinyinp', 'pinyzn', 'pinwin', 'pinyign', 'pinyie', 'pinlin', 'pxinyin', 'pinyiun', 'sinyin', 'pinymn', 'pinybn', 'pinyon', 'pinkin', 'pinyiwn', 'pinyind', 'pinysn', 'pinydin', 'painyin', 'pniyin', 'pinyiyn', 'ipnyin', 'pindin', 'pinyim', 'pinmyin', 'tinyin', 'zinyin', 'pinyinq', 'pinywn', 'pinyiin', 'qinyin', 'pinylin', 'pkinyin', 'kpinyin', 'upinyin', 'pinyinb', 'pinyint', 'pinin', 'pinjin', 'pinyicn', 'pixyin', 'piznyin', 'pinykn', 'pinyqn', 'pinyijn', 'pcinyin', 'uinyin', 'pinyirn', 'pinynn', 'pwinyin', 'pinygn', 'pinyinn', 'pinyiy', 'pinyinw', 'pinyhn', 'bpinyin', 'wpinyin', 'pikyin', 'pcnyin', 'piynyin', 'pinytn', 'pinyuin', 'plnyin', 'apinyin', 'pinrin', 'plinyin', 'pivnyin', 'psnyin', 'penyin', 'pinyisn', 'pipnyin', 'pinyinh', 'pibyin', 'pinlyin', 'ninyin', 'pinyrn', 'pinyyin', 'pinyln', 'pinyain', 'pbinyin', 'gpinyin', 'phnyin', 'pgnyin', 'pinyinj', 'pinyizn', 'pinyoin', 'pinyio', 'pinyinz', 'spinyin', 'finyin', 'pinyn', 'pinysin', 'pvnyin', 'pintin', 'rinyin', 'pnnyin', 'pfinyin', 'epinyin', 'pinyiw', 'pinyfin', 'pionyin', 'pinyiv', 'vinyin', 'pinyih', 'dinyin', 'pidnyin', 'hinyin', 'pinying', 'pianyin', 'pinyiz', 'pitnyin', 'pjinyin', 'pifnyin', 'pinyan', 'pinjyin', 'xinyin', 'prinyin', 'linyin', 'pinnin', 'pilnyin', 'piuyin', 'pinuyin'}\n"
     ]
    }
   ],
   "source": [
    "print(edits1('pinyin'))"
   ]
  },
  {
   "cell_type": "markdown",
   "metadata": {},
   "source": [
    "# Test"
   ]
  },
  {
   "cell_type": "code",
   "execution_count": 127,
   "metadata": {},
   "outputs": [
    {
     "data": {
      "text/plain": [
       "set()"
      ]
     },
     "execution_count": 127,
     "metadata": {},
     "output_type": "execute_result"
    }
   ],
   "source": [
    "known(edits0('yinc'))"
   ]
  },
  {
   "cell_type": "code",
   "execution_count": 122,
   "metadata": {},
   "outputs": [
    {
     "data": {
      "text/plain": [
       "{'bin',\n",
       " 'jin',\n",
       " 'lin',\n",
       " 'min',\n",
       " 'nin',\n",
       " 'pin',\n",
       " 'qin',\n",
       " 'xin',\n",
       " 'yan',\n",
       " 'yi',\n",
       " 'yin',\n",
       " 'ying',\n",
       " 'yun'}"
      ]
     },
     "execution_count": 122,
     "metadata": {},
     "output_type": "execute_result"
    }
   ],
   "source": [
    "known(edits1('yin'))"
   ]
  },
  {
   "cell_type": "code",
   "execution_count": 119,
   "metadata": {},
   "outputs": [
    {
     "name": "stdout",
     "output_type": "stream",
     "text": [
      "len(edits0)  1\n",
      "len(edits1)  182\n",
      "len(edits2)  14352\n",
      "{'yin'}\n",
      "{'yin'}\n"
     ]
    },
    {
     "data": {
      "text/plain": [
       "'yin'"
      ]
     },
     "execution_count": 119,
     "metadata": {},
     "output_type": "execute_result"
    }
   ],
   "source": [
    "correct('yin')"
   ]
  },
  {
   "cell_type": "code",
   "execution_count": 120,
   "metadata": {},
   "outputs": [
    {
     "name": "stdout",
     "output_type": "stream",
     "text": [
      "len(edits0)  1\n",
      "len(edits1)  234\n",
      "len(edits2)  24254\n",
      "{'yin', 'ying'}\n",
      "{'yin', 'ying'}\n"
     ]
    },
    {
     "data": {
      "text/plain": [
       "'ying'"
      ]
     },
     "execution_count": 120,
     "metadata": {},
     "output_type": "execute_result"
    }
   ],
   "source": [
    "correct('yign')"
   ]
  },
  {
   "cell_type": "code",
   "execution_count": 121,
   "metadata": {},
   "outputs": [
    {
     "name": "stdout",
     "output_type": "stream",
     "text": [
      "len(edits0)  1\n",
      "len(edits1)  232\n",
      "len(edits2)  23353\n",
      "{'yin', 'ying'}\n",
      "{'yin', 'ying'}\n"
     ]
    },
    {
     "data": {
      "text/plain": [
       "'ying'"
      ]
     },
     "execution_count": 121,
     "metadata": {},
     "output_type": "execute_result"
    }
   ],
   "source": [
    "correct('yinn')"
   ]
  },
  {
   "cell_type": "code",
   "execution_count": 128,
   "metadata": {},
   "outputs": [],
   "source": [
    "def correct_sequence_pinyin(text_pinyin):\n",
    "    return ' '.join(map(correct, text_pinyin.split()))"
   ]
  },
  {
   "cell_type": "code",
   "execution_count": 135,
   "metadata": {},
   "outputs": [
    {
     "data": {
      "text/plain": [
       "'zhe shi yi shou jian dan de xiao qing ge'"
      ]
     },
     "execution_count": 135,
     "metadata": {},
     "output_type": "execute_result"
    }
   ],
   "source": [
    "correct_sequence_pinyin('zhe sih yi shou jian dan de xioa qning ge')"
   ]
  },
  {
   "cell_type": "code",
   "execution_count": 57,
   "metadata": {},
   "outputs": [
    {
     "data": {
      "text/plain": [
       "'wo xiang shang qing hua da xue'"
      ]
     },
     "execution_count": 57,
     "metadata": {},
     "output_type": "execute_result"
    }
   ],
   "source": [
    "correct_sequence_pinyin('wo xiang shagn qinng hua da xue')"
   ]
  },
  {
   "cell_type": "markdown",
   "metadata": {},
   "source": [
    "# 思考题-homework？    \n",
    "#### 如何在不带空格的时候完成自动修整？--> 如何完成拼音的自动分割？   \n",
    "###### 提示：使用第一节课提到的语言模型!"
   ]
  },
  {
   "cell_type": "markdown",
   "metadata": {},
   "source": [
    "woyaoshangqinghua\n",
    "w yaoshangqinghua\n",
    "wo yaoshangqinghua\n",
    "woyao shangqinghua\n",
    "\n",
    "-> DP"
   ]
  },
  {
   "cell_type": "code",
   "execution_count": 191,
   "metadata": {},
   "outputs": [],
   "source": [
    "Token_2=  [''.join(Token[i:i+2]) for i in range(len(Token[:-2]))]\n",
    "#PINYIN_COUNT = Counter(tokens(CHINESE_CHARATERS_COPYS))"
   ]
  },
  {
   "cell_type": "code",
   "execution_count": 192,
   "metadata": {},
   "outputs": [
    {
     "data": {
      "text/plain": [
       "[('yueri', 165274),\n",
       " ('xinhua', 151823),\n",
       " ('huashe', 145795),\n",
       " ('nn', 136525),\n",
       " ('nxin', 89783),\n",
       " ('zhongguo', 87864),\n",
       " ('waidai', 83330),\n",
       " ('nianyue', 77695),\n",
       " ('jizhe', 65213),\n",
       " ('nwai', 62999)]"
      ]
     },
     "execution_count": 192,
     "metadata": {},
     "output_type": "execute_result"
    }
   ],
   "source": [
    "words_count_2 = Counter(Token_2)\n",
    "words_count_2.most_common(10)"
   ]
  },
  {
   "cell_type": "code",
   "execution_count": 193,
   "metadata": {},
   "outputs": [
    {
     "data": {
      "text/plain": [
       "[('yueri', 165274),\n",
       " ('xinhua', 151823),\n",
       " ('huashe', 145795),\n",
       " ('nn', 136525),\n",
       " ('nxin', 89783),\n",
       " ('zhongguo', 87864),\n",
       " ('waidai', 83330),\n",
       " ('nianyue', 77695),\n",
       " ('jizhe', 65213),\n",
       " ('nwai', 62999)]"
      ]
     },
     "execution_count": 193,
     "metadata": {},
     "output_type": "execute_result"
    }
   ],
   "source": [
    "words_count_2.most_common(10)"
   ]
  },
  {
   "cell_type": "code",
   "execution_count": 194,
   "metadata": {},
   "outputs": [],
   "source": [
    "def prob_2(word1,word2):\n",
    "    if word1 + word2 in words_count_2: return words_count_2[word1 + word2]/len(Token_2)\n",
    "    else: return 1 /len(Token_2)"
   ]
  },
  {
   "cell_type": "code",
   "execution_count": null,
   "metadata": {},
   "outputs": [],
   "source": [
    "def prob_3(word1,word2,word3):\n",
    "    if word1+word2+word3 in words_count_3: return words_count_3[word1+word2+word3] / len(TOKEN_3_GRAM)\n",
    "    else: return 1 / len(TOKEN_3_GRAM)"
   ]
  },
  {
   "cell_type": "code",
   "execution_count": null,
   "metadata": {},
   "outputs": [],
   "source": [
    "def prob_1(word):\n",
    "    if word in PINYIN_COUNT:\n",
    "        return PINYIN_COUNT[word] / len(Token)\n",
    "    else:\n",
    "        return 1/len(Token)"
   ]
  },
  {
   "cell_type": "code",
   "execution_count": null,
   "metadata": {},
   "outputs": [],
   "source": [
    "def get_probability(sentence):\n",
    "    words = cut(sentence)\n",
    "    sentence_porb =1\n",
    "    for i ,word in enumerate(words[:-2]):\n",
    "        next_1 = words[i+1]\n",
    "        next_2 =words[i+2]\n",
    "        pro = prob_3(word,next_1,next_2)\n",
    "        sentence_porb*=pro\n",
    "    sentence_porb*=prob_2(words[-2],words[-1])\n",
    "    return sentence_porb"
   ]
  },
  {
   "cell_type": "code",
   "execution_count": 195,
   "metadata": {},
   "outputs": [],
   "source": [
    "def splits(word):\n",
    "    'Return a list of all possible (first, rest) pairs that comprise pinyin.'\n",
    "    return [(word[:i], word[i:])\n",
    "           for i in range(len(word)+1) if word[:i] in PINYIN_COUNT]"
   ]
  },
  {
   "cell_type": "code",
   "execution_count": 209,
   "metadata": {},
   "outputs": [],
   "source": [
    "def  split_sentence(sentence):\n",
    "    if sentence==\"\":\n",
    "        return \"\"\n",
    "    lst = splits(sentence)\n",
    "    tp=max(lst,key=lambda x:PINYIN_COUNT[x[0]] if x[0] in PINYIN_COUNT else 0 )\n",
    "    sp=tp[0]\n",
    "    if tp[1]!=\"\":\n",
    "        sp+=\" \"+split_sentence(tp[1])\n",
    "    return sp"
   ]
  },
  {
   "cell_type": "code",
   "execution_count": 208,
   "metadata": {},
   "outputs": [
    {
     "data": {
      "text/plain": [
       "'wo xian g sha g n qi n n g hua da xue'"
      ]
     },
     "execution_count": 208,
     "metadata": {},
     "output_type": "execute_result"
    }
   ],
   "source": [
    "split_sentence(\"woxiangshagnqinnghuadaxue\")"
   ]
  },
  {
   "cell_type": "code",
   "execution_count": 204,
   "metadata": {},
   "outputs": [
    {
     "data": {
      "text/plain": [
       "166443"
      ]
     },
     "execution_count": 204,
     "metadata": {},
     "output_type": "execute_result"
    }
   ],
   "source": [
    "PINYIN_COUNT['tong']"
   ]
  },
  {
   "cell_type": "code",
   "execution_count": null,
   "metadata": {},
   "outputs": [],
   "source": [
    "@lru_cache(maxsize=2**10)\n",
    "def get_split_sentence(sentence):\n",
    "    seq=[]\n",
    "    for i in range(len(sentence)):\n",
    "        sentence1 = sentence[:i]\n",
    "        sentence2 = sentence[i:]\n",
    "        get_probablity(sentence1)\n",
    "        seq.append((sentence1,sentence2))"
   ]
  },
  {
   "cell_type": "code",
   "execution_count": 210,
   "metadata": {},
   "outputs": [
    {
     "data": {
      "text/plain": [
       "'wo xian g sha g n qi n n g hua da xue'"
      ]
     },
     "execution_count": 210,
     "metadata": {},
     "output_type": "execute_result"
    }
   ],
   "source": [
    "correct_sequence_pinyin(split_sentence(\"woxiangshagnqinnghuadaxue\"))"
   ]
  },
  {
   "cell_type": "code",
   "execution_count": null,
   "metadata": {},
   "outputs": [],
   "source": []
  }
 ],
 "metadata": {
  "kernelspec": {
   "display_name": "Python 3",
   "language": "python",
   "name": "python3"
  },
  "language_info": {
   "codemirror_mode": {
    "name": "ipython",
    "version": 3
   },
   "file_extension": ".py",
   "mimetype": "text/x-python",
   "name": "python",
   "nbconvert_exporter": "python",
   "pygments_lexer": "ipython3",
   "version": "3.7.4"
  }
 },
 "nbformat": 4,
 "nbformat_minor": 2
}
