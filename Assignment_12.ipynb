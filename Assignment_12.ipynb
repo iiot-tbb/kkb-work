{
 "cells": [
  {
   "cell_type": "markdown",
   "metadata": {},
   "source": [
    "# Assignment 12"
   ]
  },
  {
   "cell_type": "markdown",
   "metadata": {},
   "source": [
    "### 1.复习上课内容"
   ]
  },
  {
   "cell_type": "markdown",
   "metadata": {},
   "source": [
    "### 2.回答以下理论问题"
   ]
  },
  {
   "cell_type": "markdown",
   "metadata": {},
   "source": [
    "#### 1. 请写一下TF-IDF的计算公式"
   ]
  },
  {
   "cell_type": "markdown",
   "metadata": {},
   "source": [
    "$$W_{t,d}=(1+\\log_{10}{{tf}_{t,d}})\\times(\\log_{10}{N/df_t}) $$"
   ]
  },
  {
   "cell_type": "markdown",
   "metadata": {},
   "source": [
    "#### 2. LDA算法的基本假设是什么？"
   ]
  },
  {
   "cell_type": "markdown",
   "metadata": {},
   "source": [
    "Per-document topic distributions: The topics of each document obey a probability distribution.\n",
    "\n",
    "Per-topic word distributions: The words of each topic obey  a probability distribution"
   ]
  },
  {
   "cell_type": "markdown",
   "metadata": {},
   "source": [
    "#### 3. 在TextRank算法中构建图的权重是如何得到的？"
   ]
  },
  {
   "cell_type": "markdown",
   "metadata": {},
   "source": [
    "权重通过迭代获得, 在初始状态时,step=0，$WS= 1$\n",
    "\n",
    "every step 迭代$$ WS(V_i) = (1-d) + d*\\sum_{j\\in In(V_i)}\\frac{w_{ji}}{\\sum_{V_k \\in Out(V_j)}w_{jk}}WS(V_j)$$"
   ]
  },
  {
   "cell_type": "markdown",
   "metadata": {},
   "source": [
    "#### 4. 什么是命名实体识别？ 有什么应用场景？"
   ]
  },
  {
   "cell_type": "markdown",
   "metadata": {},
   "source": [
    "Named entity recognition(NER) = to find each mention of a named entity in the text and label its type. \n",
    "NER types are application specific:\n",
    "   Commonly include people, places, and organizations\n",
    "   Biomedical domain: names of genes and proteins\n",
    "   Education: codes of college courses"
   ]
  },
  {
   "cell_type": "markdown",
   "metadata": {},
   "source": [
    "#### 5.NLP主要有哪几类任务 ？"
   ]
  },
  {
   "cell_type": "markdown",
   "metadata": {},
   "source": [
    "Classification task  (sentiment classification)\n",
    "\n",
    "Generation task (Machine translation)\n",
    "\n",
    "Generation task (Question answering)\n",
    "\n",
    "Text summarization\n"
   ]
  },
  {
   "cell_type": "markdown",
   "metadata": {},
   "source": [
    "### 3.实践题"
   ]
  },
  {
   "cell_type": "markdown",
   "metadata": {},
   "source": [
    "#### 3.1 手动实现TextRank算法 (在新闻数据中随机提取100条新闻训练词向量和做做法测试）"
   ]
  },
  {
   "cell_type": "code",
   "execution_count": 1,
   "metadata": {},
   "outputs": [],
   "source": [
    "import gensim\n",
    "import pandas as pd\n",
    "import jieba\n",
    "import re\n",
    "#import stanfordcorenlp\n",
    "import math\n",
    "import numpy as np\n",
    "import random\n",
    "import tqdm"
   ]
  },
  {
   "cell_type": "code",
   "execution_count": 2,
   "metadata": {},
   "outputs": [],
   "source": [
    "MAX_WINDOWS=5\n",
    "data_source = \"../Lecture_12/export_sql_1558435/sqlResult_1558435.csv\""
   ]
  },
  {
   "cell_type": "code",
   "execution_count": 5,
   "metadata": {},
   "outputs": [],
   "source": [
    "df = pd.read_csv(data_source,encoding='gb18030')"
   ]
  },
  {
   "cell_type": "code",
   "execution_count": 7,
   "metadata": {},
   "outputs": [],
   "source": [
    "content =df['content'][:100].tolist()"
   ]
  },
  {
   "cell_type": "code",
   "execution_count": 11,
   "metadata": {},
   "outputs": [],
   "source": [
    "content =[ ''.join(token(w)) for w in content]"
   ]
  },
  {
   "cell_type": "code",
   "execution_count": 13,
   "metadata": {},
   "outputs": [
    {
     "data": {
      "text/plain": [
       "100"
      ]
     },
     "execution_count": 13,
     "metadata": {},
     "output_type": "execute_result"
    }
   ],
   "source": [
    "len(content)"
   ]
  },
  {
   "cell_type": "code",
   "execution_count": 12,
   "metadata": {},
   "outputs": [
    {
     "name": "stderr",
     "output_type": "stream",
     "text": [
      "Building prefix dict from the default dictionary ...\n",
      "Loading model from cache C:\\Users\\tb\\AppData\\Local\\Temp\\jieba.cache\n",
      "Loading model cost 1.120 seconds.\n",
      "Prefix dict has been built successfully.\n"
     ]
    }
   ],
   "source": [
    "content = [ cut(text) for text in content ]"
   ]
  },
  {
   "cell_type": "code",
   "execution_count": 10,
   "metadata": {},
   "outputs": [],
   "source": [
    "def cut(text): return ' '.join(jieba.cut(text))"
   ]
  },
  {
   "cell_type": "code",
   "execution_count": 9,
   "metadata": {},
   "outputs": [],
   "source": [
    "def token(string):\n",
    "    return re.findall(r'[\\w]+',string)"
   ]
  },
  {
   "cell_type": "code",
   "execution_count": 13,
   "metadata": {},
   "outputs": [],
   "source": [
    "from gensim.test.utils import common_texts, get_tmpfile\n",
    "from gensim.models import Word2Vec, word2vec, KeyedVectors"
   ]
  },
  {
   "cell_type": "code",
   "execution_count": 14,
   "metadata": {},
   "outputs": [],
   "source": [
    "sentence = [s.split() for s in content]"
   ]
  },
  {
   "cell_type": "code",
   "execution_count": 29,
   "metadata": {},
   "outputs": [
    {
     "data": {
      "text/plain": [
       "['此外',\n",
       " '自',\n",
       " '本周',\n",
       " '6',\n",
       " '月',\n",
       " '12',\n",
       " '日起',\n",
       " '除',\n",
       " '小米',\n",
       " '手机',\n",
       " '6',\n",
       " '等',\n",
       " '15',\n",
       " '款',\n",
       " '机型',\n",
       " '外',\n",
       " '其余',\n",
       " '机型',\n",
       " '已',\n",
       " '暂停',\n",
       " '更新',\n",
       " '发布',\n",
       " '含',\n",
       " '开发',\n",
       " '版',\n",
       " '体验版',\n",
       " '内测',\n",
       " '稳定版',\n",
       " '暂不受',\n",
       " '影响',\n",
       " '以',\n",
       " '确保',\n",
       " '工程师',\n",
       " '可以',\n",
       " '集中',\n",
       " '全部',\n",
       " '精力',\n",
       " '进行',\n",
       " '系统优化',\n",
       " '工作',\n",
       " '有人',\n",
       " '猜测',\n",
       " '这',\n",
       " '也',\n",
       " '是',\n",
       " '将',\n",
       " '精力',\n",
       " '主要',\n",
       " '用到',\n",
       " 'MIUI9',\n",
       " '的',\n",
       " '研发',\n",
       " '之中',\n",
       " 'MIUI8',\n",
       " '去年',\n",
       " '5',\n",
       " '月',\n",
       " '发布',\n",
       " '距今已有',\n",
       " '一年',\n",
       " '有余',\n",
       " '也',\n",
       " '是',\n",
       " '时候',\n",
       " '更新换代',\n",
       " '了',\n",
       " '当然',\n",
       " '关于',\n",
       " 'MIUI9',\n",
       " '的',\n",
       " '确切',\n",
       " '信息',\n",
       " '我们',\n",
       " '还是',\n",
       " '等待',\n",
       " '官方消息']"
      ]
     },
     "execution_count": 29,
     "metadata": {},
     "output_type": "execute_result"
    }
   ],
   "source": [
    "sentence[0]"
   ]
  },
  {
   "cell_type": "code",
   "execution_count": 15,
   "metadata": {},
   "outputs": [],
   "source": [
    "path = get_tmpfile(\"all_vec.model\")        # 创建临时文件\n",
    "#sentences = word2vec.LineSentence(content)        # 读取预料\n",
    "\n",
    "# Word2Vec的参数说明:https://blog.csdn.net/szlcw1/article/details/52751314\n",
    "# size:特征向量的维度; window:当前词与预测词在一个句子中的最大距离；\n",
    "# min_count: 词频少于min_count次数的单词会被丢弃掉\n",
    "# workers:控制训练的并行数\n",
    "model = Word2Vec(sentence, size=100, window=10, min_count=0, workers=4)        # 训练模型\n",
    "model.save(\"all_vec.model\")         # 保存模型\n",
    "model.wv.save_word2vec_format('all_vec_format.txt')        # 将词向量以文本形式输出"
   ]
  },
  {
   "cell_type": "code",
   "execution_count": 16,
   "metadata": {},
   "outputs": [
    {
     "name": "stdout",
     "output_type": "stream",
     "text": [
      "[ 0.15399468  0.4039489   0.05288561 -0.07181797  0.10743837 -0.10339998\n",
      " -0.23051383 -0.0026197  -0.09466308  0.79761595  0.3082908   0.3225964\n",
      "  0.48701683  0.32459816  0.145724   -0.21977541 -0.3929227  -0.62011665\n",
      "  0.32026753 -0.51316273  0.7719842  -0.27778202 -0.09495185 -0.4440521\n",
      "  0.09031882  0.68165106  0.34470513  0.3622547  -0.9335784   0.3944233\n",
      " -0.02168757 -0.3797212   0.01692033 -0.13177791  0.038302    0.36723334\n",
      " -0.43965077 -0.2896048  -0.67428327  0.16977854  0.13396578 -0.09495805\n",
      " -0.04414823  0.13978401 -0.539076   -0.05339715 -0.14162105 -0.153299\n",
      "  0.4337643  -0.33594924  0.10048851 -0.4140766   0.35931322 -0.15829597\n",
      " -0.53423095 -0.40989023 -0.5097661   0.30464458 -0.51953924 -0.11486758\n",
      "  0.67521834 -0.17281787  0.12620965  0.08769912  0.16522962 -0.25121883\n",
      "  0.21232535 -0.27337074  0.1913451  -0.21566556 -0.4190616   0.17935924\n",
      " -0.20057602 -0.05942836  0.27050883 -0.11616302  0.30129746 -0.03749178\n",
      " -0.6100178   0.10928423  0.26082936  0.87557876  0.0760289   0.18266837\n",
      "  0.3798503  -0.46609178 -0.10067192  0.0225062   0.26823637  0.13257499\n",
      "  0.06091237  0.06126513 -0.21230415  0.11569459 -0.3475628  -0.20766053\n",
      " -0.0295941   0.01021403  0.30243465 -0.2732452 ]\n"
     ]
    }
   ],
   "source": [
    "print(model.wv['手机'])"
   ]
  },
  {
   "cell_type": "code",
   "execution_count": 17,
   "metadata": {},
   "outputs": [],
   "source": [
    "from scipy.spatial.distance import cosine"
   ]
  },
  {
   "cell_type": "code",
   "execution_count": 18,
   "metadata": {},
   "outputs": [],
   "source": [
    "def distance(x,y): return cosine(x,y)"
   ]
  },
  {
   "cell_type": "code",
   "execution_count": 19,
   "metadata": {},
   "outputs": [
    {
     "data": {
      "text/plain": [
       "0.014828383922576904"
      ]
     },
     "execution_count": 19,
     "metadata": {},
     "output_type": "execute_result"
    }
   ],
   "source": [
    "distance(model.wv['手机'],model.wv['MIUI9'])"
   ]
  },
  {
   "cell_type": "code",
   "execution_count": 20,
   "metadata": {},
   "outputs": [],
   "source": [
    "class node:\n",
    "    def __init__(self,string):\n",
    "        self.vec = model.wv[string]\n",
    "        self.children= []\n",
    "        self.name=string\n",
    "        self.weight=1"
   ]
  },
  {
   "cell_type": "code",
   "execution_count": 21,
   "metadata": {},
   "outputs": [],
   "source": [
    "def setGraph(doc,maxsize=5):\n",
    "    lsnode=[]\n",
    "    dicnode={}\n",
    "    for i,text in list(enumerate(doc))[:-maxsize]:\n",
    "        if text not in dicnode:#如果没有节点，创建新节点。\n",
    "            x=node(text)\n",
    "            lsnode.append(x)\n",
    "            dicnode[text]=x\n",
    "        else:x=dicnode[text]#否则指向已经创建的节点\n",
    "            \n",
    "        for j in range(1,maxsize):\n",
    "            if doc[i+j]==text:\n",
    "                continue\n",
    "            if doc[i+j] in dicnode:\n",
    "                x1 = dicnode[doc[i+j]]\n",
    "            else:\n",
    "                x1 = node(doc[i+j])\n",
    "                lsnode.append(x1)\n",
    "                dicnode[doc[i+j]]=x1\n",
    "                \n",
    "            if x1 not in x.children:\n",
    "                #simi=distance(x.vec,x1.vec)\n",
    "                x.children.append(x1)\n",
    "                x1.children.append(x)\n",
    "                \n",
    "    return dicnode,lsnode\n",
    "        "
   ]
  },
  {
   "cell_type": "code",
   "execution_count": 48,
   "metadata": {},
   "outputs": [],
   "source": [
    "from functools import lru_cache"
   ]
  },
  {
   "cell_type": "code",
   "execution_count": 52,
   "metadata": {},
   "outputs": [],
   "source": [
    "\n",
    "def iteratble(lsnode,iteration=500):\n",
    "    for i in tqdm(list(range(iteration))):\n",
    "        for node in lsnode:\n",
    "            node.weight = (1-0.85)+ 0.85*sum(child.weight*distance(child.vec,node.vec)/sum([distance(nodechild.vec,child.vec) for nodechild in child.children]) for child in node.children)"
   ]
  },
  {
   "cell_type": "code",
   "execution_count": 29,
   "metadata": {},
   "outputs": [],
   "source": [
    "dic,ls=setGraph(sentence[0])"
   ]
  },
  {
   "cell_type": "code",
   "execution_count": 24,
   "metadata": {},
   "outputs": [
    {
     "name": "stdout",
     "output_type": "stream",
     "text": [
      "hello\n"
     ]
    }
   ],
   "source": [
    "print('hello')"
   ]
  },
  {
   "cell_type": "code",
   "execution_count": 66,
   "metadata": {},
   "outputs": [],
   "source": [
    "lst=[[1,2,3],[4,5,6]]"
   ]
  },
  {
   "cell_type": "code",
   "execution_count": 71,
   "metadata": {},
   "outputs": [
    {
     "name": "stdout",
     "output_type": "stream",
     "text": [
      "[1, 2, 3]\n",
      "[4, 5, 6]\n"
     ]
    }
   ],
   "source": [
    "for q in lst:\n",
    "    print(q)"
   ]
  },
  {
   "cell_type": "code",
   "execution_count": 72,
   "metadata": {},
   "outputs": [],
   "source": [
    "def ss(lst):\n",
    "    s= sum( [i for i in q for q in lst])\n",
    "    return s"
   ]
  },
  {
   "cell_type": "code",
   "execution_count": 73,
   "metadata": {},
   "outputs": [
    {
     "data": {
      "text/plain": [
       "30"
      ]
     },
     "execution_count": 73,
     "metadata": {},
     "output_type": "execute_result"
    }
   ],
   "source": [
    "ss(lst)"
   ]
  },
  {
   "cell_type": "code",
   "execution_count": 74,
   "metadata": {},
   "outputs": [
    {
     "name": "stderr",
     "output_type": "stream",
     "text": [
      "100%|████████████████████████████████████████████████████████████████████████████████| 500/500 [04:20<00:00,  1.92it/s]\n"
     ]
    }
   ],
   "source": [
    "iteratble(ls)"
   ]
  },
  {
   "cell_type": "code",
   "execution_count": 56,
   "metadata": {},
   "outputs": [],
   "source": [
    "ls=sorted(ls,key=lambda x:x.weight,reverse=True)"
   ]
  },
  {
   "cell_type": "code",
   "execution_count": 57,
   "metadata": {},
   "outputs": [],
   "source": [
    "l=[]\n",
    "for s in ls:\n",
    "    l.append((s.name,s.weight))"
   ]
  },
  {
   "cell_type": "code",
   "execution_count": 58,
   "metadata": {},
   "outputs": [
    {
     "data": {
      "text/plain": [
       "[('本周', 3.258852576467161),\n",
       " ('系统优化', 2.617370357239604),\n",
       " ('有人', 2.5925704959207865),\n",
       " ('距今已有', 2.3945381965906294),\n",
       " ('确切', 2.246343657586842),\n",
       " ('有余', 2.2035580324395716),\n",
       " ('更新换代', 1.9744231660841356),\n",
       " ('体验版', 1.9065130337323257),\n",
       " ('精力', 1.758911868483012),\n",
       " ('内测', 1.7438040928624745),\n",
       " ('MIUI9', 1.7319974392513782),\n",
       " ('用到', 1.6782446528402541),\n",
       " ('稳定版', 1.6374812735787247),\n",
       " ('暂不受', 1.6043439823084986),\n",
       " ('MIUI8', 1.5682868612199754),\n",
       " ('月', 1.4644639113860194),\n",
       " ('其余', 1.3615336305314156),\n",
       " ('之中', 1.336709940662061),\n",
       " ('是', 1.2521120170532232),\n",
       " ('也', 1.0967296587552857),\n",
       " ('猜测', 1.0900026046125308),\n",
       " ('发布', 1.044183161098673),\n",
       " ('机型', 1.0085783288420023),\n",
       " ('除', 0.9535130125864043),\n",
       " ('6', 0.8924539686660256),\n",
       " ('的', 0.8875342302489816),\n",
       " ('日起', 0.8688931363421769),\n",
       " ('版', 0.8023154487920857),\n",
       " ('12', 0.7917722057278502),\n",
       " ('含', 0.764570186159978),\n",
       " ('进行', 0.739791813587607),\n",
       " ('工作', 0.7314256693506848),\n",
       " ('这', 0.7294934685549358),\n",
       " ('影响', 0.7045565873757405),\n",
       " ('小米', 0.6883411601166919),\n",
       " ('开发', 0.6844622082838041),\n",
       " ('暂停', 0.6723674806416325),\n",
       " ('当然', 0.6540813704888292),\n",
       " ('去年', 0.6467722161304092),\n",
       " ('5', 0.6409730804092352),\n",
       " ('外', 0.6330989033693325),\n",
       " ('自', 0.6251563140983749),\n",
       " ('关于', 0.6233192911272774),\n",
       " ('此外', 0.6169849519738282),\n",
       " ('研发', 0.6144378391786041),\n",
       " ('一年', 0.5812339534953628),\n",
       " ('款', 0.5660058463146171),\n",
       " ('以', 0.552333560998162),\n",
       " ('集中', 0.5470959196221494),\n",
       " ('时候', 0.5281111080950787),\n",
       " ('更新', 0.508737383771876),\n",
       " ('15', 0.5017271902795803),\n",
       " ('确保', 0.4825783224022109),\n",
       " ('全部', 0.473418984383552),\n",
       " ('已', 0.4630658039266358),\n",
       " ('将', 0.4463555169596985),\n",
       " ('等', 0.44583669240997775),\n",
       " ('信息', 0.4302721751908514),\n",
       " ('我们', 0.42922462970912395),\n",
       " ('主要', 0.3966654830638845),\n",
       " ('工程师', 0.39608019317632404),\n",
       " ('了', 0.3824933489612075),\n",
       " ('还是', 0.3795484123201357),\n",
       " ('等待', 0.3649351151917951),\n",
       " ('手机', 0.3609755205513653),\n",
       " ('可以', 0.2254373564193366)]"
      ]
     },
     "execution_count": 58,
     "metadata": {},
     "output_type": "execute_result"
    }
   ],
   "source": [
    "l"
   ]
  },
  {
   "cell_type": "code",
   "execution_count": 32,
   "metadata": {},
   "outputs": [],
   "source": [
    "from tqdm import tqdm"
   ]
  },
  {
   "cell_type": "code",
   "execution_count": 35,
   "metadata": {},
   "outputs": [
    {
     "name": "stderr",
     "output_type": "stream",
     "text": [
      "100%|██████████████████████████████████████████████████████████████████████████| 1000/1000 [00:00<00:00, 333543.06it/s]\n"
     ]
    }
   ],
   "source": [
    "for i in tqdm(range(1000)):\n",
    "    pass"
   ]
  },
  {
   "cell_type": "markdown",
   "metadata": {},
   "source": [
    " 提示：\n",
    " 1. 确定窗口，建立图链接。   \n",
    " 2. 通过词向量相似度确定图上边的权重\n",
    " 3. 根据公式实现算法迭代(d=0.85)"
   ]
  },
  {
   "cell_type": "markdown",
   "metadata": {},
   "source": [
    "#### 选做 1.  提取新闻人物里的对话。(使用以上提取小数据即可）"
   ]
  },
  {
   "cell_type": "markdown",
   "metadata": {},
   "source": [
    "提示：    \n",
    "1.寻找预料里具有表示说的意思。    \n",
    "2.使用语法分析提取句子结构。    \n",
    "3.检测谓语是否有表示说的意思。"
   ]
  },
  {
   "cell_type": "markdown",
   "metadata": {},
   "source": [
    "#### 选择2. ： 电影评论分类。"
   ]
  },
  {
   "cell_type": "markdown",
   "metadata": {},
   "source": [
    "在这个作业中你要完成一个电影评论分类任务。"
   ]
  },
  {
   "cell_type": "markdown",
   "metadata": {},
   "source": [
    "1.数据获取。（采用爬虫技术爬取相关网页上的电影评论数据，例如猫眼电影评论，豆瓣电影评论）"
   ]
  },
  {
   "cell_type": "markdown",
   "metadata": {},
   "source": [
    "2.把所获得数据分解为训练集，验证集和测试集。"
   ]
  },
  {
   "cell_type": "markdown",
   "metadata": {},
   "source": [
    "3.选用相应算法构建模型，并测试。"
   ]
  },
  {
   "cell_type": "code",
   "execution_count": 75,
   "metadata": {},
   "outputs": [
    {
     "name": "stderr",
     "output_type": "stream",
     "text": [
      "D:\\anaconda\\lib\\site-packages\\IPython\\core\\interactiveshell.py:3063: DtypeWarning: Columns (0,4) have mixed types. Specify dtype option on import or set low_memory=False.\n",
      "  interactivity=interactivity, compiler=compiler, result=result)\n"
     ]
    }
   ],
   "source": [
    "df_movie =pd.read_csv('./movie_comments.csv')"
   ]
  },
  {
   "cell_type": "code",
   "execution_count": 76,
   "metadata": {},
   "outputs": [
    {
     "data": {
      "text/html": [
       "<div>\n",
       "<style scoped>\n",
       "    .dataframe tbody tr th:only-of-type {\n",
       "        vertical-align: middle;\n",
       "    }\n",
       "\n",
       "    .dataframe tbody tr th {\n",
       "        vertical-align: top;\n",
       "    }\n",
       "\n",
       "    .dataframe thead th {\n",
       "        text-align: right;\n",
       "    }\n",
       "</style>\n",
       "<table border=\"1\" class=\"dataframe\">\n",
       "  <thead>\n",
       "    <tr style=\"text-align: right;\">\n",
       "      <th></th>\n",
       "      <th>id</th>\n",
       "      <th>link</th>\n",
       "      <th>name</th>\n",
       "      <th>comment</th>\n",
       "      <th>star</th>\n",
       "    </tr>\n",
       "  </thead>\n",
       "  <tbody>\n",
       "    <tr>\n",
       "      <td>0</td>\n",
       "      <td>1</td>\n",
       "      <td>https://movie.douban.com/subject/26363254/</td>\n",
       "      <td>战狼2</td>\n",
       "      <td>吴京意淫到了脑残的地步，看了恶心想吐</td>\n",
       "      <td>1</td>\n",
       "    </tr>\n",
       "    <tr>\n",
       "      <td>1</td>\n",
       "      <td>2</td>\n",
       "      <td>https://movie.douban.com/subject/26363254/</td>\n",
       "      <td>战狼2</td>\n",
       "      <td>首映礼看的。太恐怖了这个电影，不讲道理的，完全就是吴京在实现他这个小粉红的英雄梦。各种装备轮...</td>\n",
       "      <td>2</td>\n",
       "    </tr>\n",
       "    <tr>\n",
       "      <td>2</td>\n",
       "      <td>3</td>\n",
       "      <td>https://movie.douban.com/subject/26363254/</td>\n",
       "      <td>战狼2</td>\n",
       "      <td>吴京的炒作水平不输冯小刚，但小刚至少不会用主旋律来炒作…吴京让人看了不舒服，为了主旋律而主旋...</td>\n",
       "      <td>2</td>\n",
       "    </tr>\n",
       "    <tr>\n",
       "      <td>3</td>\n",
       "      <td>4</td>\n",
       "      <td>https://movie.douban.com/subject/26363254/</td>\n",
       "      <td>战狼2</td>\n",
       "      <td>凭良心说，好看到不像《战狼1》的续集，完虐《湄公河行动》。</td>\n",
       "      <td>4</td>\n",
       "    </tr>\n",
       "    <tr>\n",
       "      <td>4</td>\n",
       "      <td>5</td>\n",
       "      <td>https://movie.douban.com/subject/26363254/</td>\n",
       "      <td>战狼2</td>\n",
       "      <td>中二得很</td>\n",
       "      <td>1</td>\n",
       "    </tr>\n",
       "  </tbody>\n",
       "</table>\n",
       "</div>"
      ],
      "text/plain": [
       "  id                                        link name  \\\n",
       "0  1  https://movie.douban.com/subject/26363254/  战狼2   \n",
       "1  2  https://movie.douban.com/subject/26363254/  战狼2   \n",
       "2  3  https://movie.douban.com/subject/26363254/  战狼2   \n",
       "3  4  https://movie.douban.com/subject/26363254/  战狼2   \n",
       "4  5  https://movie.douban.com/subject/26363254/  战狼2   \n",
       "\n",
       "                                             comment star  \n",
       "0                                 吴京意淫到了脑残的地步，看了恶心想吐    1  \n",
       "1  首映礼看的。太恐怖了这个电影，不讲道理的，完全就是吴京在实现他这个小粉红的英雄梦。各种装备轮...    2  \n",
       "2  吴京的炒作水平不输冯小刚，但小刚至少不会用主旋律来炒作…吴京让人看了不舒服，为了主旋律而主旋...    2  \n",
       "3                      凭良心说，好看到不像《战狼1》的续集，完虐《湄公河行动》。    4  \n",
       "4                                               中二得很    1  "
      ]
     },
     "execution_count": 76,
     "metadata": {},
     "output_type": "execute_result"
    }
   ],
   "source": [
    "df_movie.head()"
   ]
  },
  {
   "cell_type": "code",
   "execution_count": 78,
   "metadata": {},
   "outputs": [],
   "source": [
    "comment =df_movie['comment',].tolist()"
   ]
  },
  {
   "cell_type": "code",
   "execution_count": 79,
   "metadata": {},
   "outputs": [],
   "source": [
    "stop_words = []\n",
    "with open('../baidu_stopwords.txt',encoding='utf-8') as f:\n",
    "    for word in f.readlines():\n",
    "        stop_words.append(word.strip())"
   ]
  },
  {
   "cell_type": "code",
   "execution_count": 80,
   "metadata": {},
   "outputs": [
    {
     "data": {
      "text/plain": [
       "261497"
      ]
     },
     "execution_count": 80,
     "metadata": {},
     "output_type": "execute_result"
    }
   ],
   "source": [
    "len(comment)"
   ]
  },
  {
   "cell_type": "code",
   "execution_count": 83,
   "metadata": {},
   "outputs": [],
   "source": [
    "from gensim import corpora, models\n",
    "import jieba.posseg as jp,jieba"
   ]
  },
  {
   "cell_type": "code",
   "execution_count": 85,
   "metadata": {},
   "outputs": [],
   "source": [
    "flags = ('n','nr', 'ns', 'nt', 'eng', 'v', 'd')"
   ]
  },
  {
   "cell_type": "code",
   "execution_count": 88,
   "metadata": {},
   "outputs": [],
   "source": [
    "from tqdm import tqdm"
   ]
  },
  {
   "cell_type": "code",
   "execution_count": 89,
   "metadata": {},
   "outputs": [
    {
     "name": "stderr",
     "output_type": "stream",
     "text": [
      "100%|█████████████████████████████████████████████████████████████████████████| 261497/261497 [25:16<00:00, 172.48it/s]\n"
     ]
    }
   ],
   "source": [
    "words_ls = []\n",
    "for text in tqdm(comment):\n",
    "    words = [w.word for w in jp.cut(str(text)) if w.flag in flags and w.word not in stop_words]\n",
    "    words_ls.append(words)"
   ]
  },
  {
   "cell_type": "code",
   "execution_count": 90,
   "metadata": {},
   "outputs": [],
   "source": [
    "dictionary = corpora.Dictionary(words_ls)"
   ]
  },
  {
   "cell_type": "code",
   "execution_count": 91,
   "metadata": {},
   "outputs": [],
   "source": [
    "corpus = [dictionary.doc2bow(words) for words in words_ls] "
   ]
  },
  {
   "cell_type": "code",
   "execution_count": 92,
   "metadata": {},
   "outputs": [],
   "source": [
    "lda = models.ldamodel.LdaModel(corpus=corpus,id2word=dictionary,num_topics=5)"
   ]
  },
  {
   "cell_type": "code",
   "execution_count": 93,
   "metadata": {},
   "outputs": [],
   "source": [
    "lda.save('model_lda')"
   ]
  },
  {
   "cell_type": "code",
   "execution_count": 94,
   "metadata": {},
   "outputs": [
    {
     "name": "stdout",
     "output_type": "stream",
     "text": [
      "(0, '0.024*\"爱\" + 0.019*\"人\" + 0.011*\"都\" + 0.009*\"最\" + 0.008*\"可爱\" + 0.008*\"世界\" + 0.006*\"孩子\" + 0.006*\"做\" + 0.006*\"爱情\" + 0.006*\"不\"')\n",
      "(1, '0.028*\"人\" + 0.025*\"很\" + 0.019*\"都\" + 0.015*\"电影\" + 0.011*\"故事\" + 0.011*\"却\" + 0.010*\"不\" + 0.009*\"音乐\" + 0.008*\"镜头\" + 0.007*\"影片\"')\n",
      "(2, '0.031*\"电影\" + 0.019*\"还\" + 0.018*\"故事\" + 0.016*\"太\" + 0.016*\"拍\" + 0.014*\"都\" + 0.013*\"剧情\" + 0.013*\"导演\" + 0.013*\"很\" + 0.010*\"不\"')\n",
      "(3, '0.069*\"看\" + 0.028*\"都\" + 0.023*\"不\" + 0.022*\"说\" + 0.021*\"电影\" + 0.019*\"想\" + 0.014*\"没\" + 0.013*\"去\" + 0.011*\"片子\" + 0.010*\"还\"')\n",
      "(4, '0.059*\"喜欢\" + 0.033*\"不\" + 0.024*\"好看\" + 0.015*\"青春\" + 0.012*\"最\" + 0.012*\"太\" + 0.010*\"电影\" + 0.010*\"男人\" + 0.009*\"女人\" + 0.008*\"懂\"')\n"
     ]
    }
   ],
   "source": [
    "for topic in lda.print_topics(num_words=10):\n",
    "    print(topic)"
   ]
  },
  {
   "cell_type": "code",
   "execution_count": 95,
   "metadata": {},
   "outputs": [],
   "source": [
    "text= comment[10]"
   ]
  },
  {
   "cell_type": "code",
   "execution_count": 96,
   "metadata": {},
   "outputs": [
    {
     "data": {
      "text/plain": [
       "'犯我中华者虽远必诛，是有多无脑才信这句话。'"
      ]
     },
     "execution_count": 96,
     "metadata": {},
     "output_type": "execute_result"
    }
   ],
   "source": [
    "text"
   ]
  },
  {
   "cell_type": "code",
   "execution_count": 97,
   "metadata": {},
   "outputs": [],
   "source": [
    "words = [[w.word for w in jp.cut(text) if w.flag in flags and w.word not in stop_words]]"
   ]
  },
  {
   "cell_type": "code",
   "execution_count": 98,
   "metadata": {},
   "outputs": [],
   "source": [
    "text_corpus = [dictionary.doc2bow(word) for word in words]"
   ]
  },
  {
   "cell_type": "code",
   "execution_count": 99,
   "metadata": {},
   "outputs": [
    {
     "data": {
      "text/plain": [
       "[[(0, 0.032633934),\n",
       "  (1, 0.032524526),\n",
       "  (2, 0.38514617),\n",
       "  (3, 0.51721495),\n",
       "  (4, 0.0324804)]]"
      ]
     },
     "execution_count": 99,
     "metadata": {},
     "output_type": "execute_result"
    }
   ],
   "source": [
    "list(lda[text_corpus])"
   ]
  },
  {
   "cell_type": "markdown",
   "metadata": {},
   "source": [
    "#### 选择3：文章自动续写"
   ]
  },
  {
   "cell_type": "markdown",
   "metadata": {},
   "source": [
    "在这个作业中你要完成一个文章自动续写的模型。"
   ]
  },
  {
   "cell_type": "markdown",
   "metadata": {},
   "source": [
    "1.数据获取。（根据你的兴趣采用爬虫技术爬去相关网站上的文本数据内容：比如故事网站，小说网站等）"
   ]
  },
  {
   "cell_type": "markdown",
   "metadata": {},
   "source": [
    "2.选取模型，并训练。"
   ]
  },
  {
   "cell_type": "markdown",
   "metadata": {},
   "source": [
    "3.展示一些你模型的输出例子。"
   ]
  }
 ],
 "metadata": {
  "kernelspec": {
   "display_name": "Python 3",
   "language": "python",
   "name": "python3"
  },
  "language_info": {
   "codemirror_mode": {
    "name": "ipython",
    "version": 3
   },
   "file_extension": ".py",
   "mimetype": "text/x-python",
   "name": "python",
   "nbconvert_exporter": "python",
   "pygments_lexer": "ipython3",
   "version": "3.7.4"
  }
 },
 "nbformat": 4,
 "nbformat_minor": 2
}
